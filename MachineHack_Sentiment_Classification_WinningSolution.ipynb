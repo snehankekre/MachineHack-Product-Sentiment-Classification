{
  "nbformat": 4,
  "nbformat_minor": 0,
  "metadata": {
    "colab": {
      "name": "MachineHack-Sentiment-Classification-WinningSolution.ipynb",
      "provenance": [],
      "collapsed_sections": []
    },
    "kernelspec": {
      "name": "python3",
      "display_name": "Python 3"
    },
    "accelerator": "GPU"
  },
  "cells": [
    {
      "cell_type": "markdown",
      "metadata": {
        "id": "-kN3uknh13jL",
        "colab_type": "text"
      },
      "source": [
        "# [Product Sentiment Classification Hackathon](https://www.machinehack.com/hackathons/product_sentiment_classification_weekend_hackathon_19)"
      ]
    },
    {
      "cell_type": "markdown",
      "metadata": {
        "id": "kvubc6Xw2BXe",
        "colab_type": "text"
      },
      "source": [
        "### Task 1: Import Libraries and Load the Training Data"
      ]
    },
    {
      "cell_type": "code",
      "metadata": {
        "id": "4j_VGdrcJao7",
        "colab_type": "code",
        "colab": {
          "base_uri": "https://localhost:8080/",
          "height": 391
        },
        "outputId": "289191ef-71f1-4248-ff8d-cfb01e8a460f"
      },
      "source": [
        "!nvidia-smi"
      ],
      "execution_count": 1,
      "outputs": [
        {
          "output_type": "stream",
          "text": [
            "Mon Sep  7 09:55:12 2020       \n",
            "+-----------------------------------------------------------------------------+\n",
            "| NVIDIA-SMI 450.66       Driver Version: 418.67       CUDA Version: 10.1     |\n",
            "|-------------------------------+----------------------+----------------------+\n",
            "| GPU  Name        Persistence-M| Bus-Id        Disp.A | Volatile Uncorr. ECC |\n",
            "| Fan  Temp  Perf  Pwr:Usage/Cap|         Memory-Usage | GPU-Util  Compute M. |\n",
            "|                               |                      |               MIG M. |\n",
            "|===============================+======================+======================|\n",
            "|   0  Tesla T4            Off  | 00000000:00:04.0 Off |                    0 |\n",
            "| N/A   52C    P8    10W /  70W |      0MiB / 15079MiB |      0%      Default |\n",
            "|                               |                      |                 ERR! |\n",
            "+-------------------------------+----------------------+----------------------+\n",
            "                                                                               \n",
            "+-----------------------------------------------------------------------------+\n",
            "| Processes:                                                                  |\n",
            "|  GPU   GI   CI        PID   Type   Process name                  GPU Memory |\n",
            "|        ID   ID                                                   Usage      |\n",
            "|=============================================================================|\n",
            "|  No running processes found                                                 |\n",
            "+-----------------------------------------------------------------------------+\n"
          ],
          "name": "stdout"
        }
      ]
    },
    {
      "cell_type": "code",
      "metadata": {
        "id": "_rlKgYJ-E-b2",
        "colab_type": "code",
        "colab": {
          "base_uri": "https://localhost:8080/",
          "height": 223
        },
        "outputId": "77944917-b6d9-4376-ff5b-cfd90fe2e62c"
      },
      "source": [
        "!wget https://machinehack-be.s3.amazonaws.com/product_sentiment_classification_weekend_hackathon_19/Participants_Data.zip\n",
        "!unzip -q Participants_Data.zip"
      ],
      "execution_count": 2,
      "outputs": [
        {
          "output_type": "stream",
          "text": [
            "--2020-09-07 09:55:17--  https://machinehack-be.s3.amazonaws.com/product_sentiment_classification_weekend_hackathon_19/Participants_Data.zip\n",
            "Resolving machinehack-be.s3.amazonaws.com (machinehack-be.s3.amazonaws.com)... 52.219.66.104\n",
            "Connecting to machinehack-be.s3.amazonaws.com (machinehack-be.s3.amazonaws.com)|52.219.66.104|:443... connected.\n",
            "HTTP request sent, awaiting response... 200 OK\n",
            "Length: 400578 (391K) [application/zip]\n",
            "Saving to: ‘Participants_Data.zip’\n",
            "\n",
            "Participants_Data.z 100%[===================>] 391.19K   333KB/s    in 1.2s    \n",
            "\n",
            "2020-09-07 09:55:19 (333 KB/s) - ‘Participants_Data.zip’ saved [400578/400578]\n",
            "\n"
          ],
          "name": "stdout"
        }
      ]
    },
    {
      "cell_type": "code",
      "metadata": {
        "id": "hOiL2RdcE-ju",
        "colab_type": "code",
        "colab": {
          "base_uri": "https://localhost:8080/",
          "height": 36
        },
        "outputId": "5ef2e046-9c29-434d-ebc5-344a10a2e6b4"
      },
      "source": [
        "import tensorflow as tf\n",
        "import tensorflow_hub as hub\n",
        "import numpy as np\n",
        "import pandas as pd\n",
        "from sklearn.model_selection import train_test_split\n",
        "\n",
        "df = pd.read_csv('/content/Participants_Data/Train.csv', low_memory=False)\n",
        "df.shape"
      ],
      "execution_count": 1,
      "outputs": [
        {
          "output_type": "execute_result",
          "data": {
            "text/plain": [
              "(6364, 4)"
            ]
          },
          "metadata": {
            "tags": []
          },
          "execution_count": 1
        }
      ]
    },
    {
      "cell_type": "markdown",
      "metadata": {
        "id": "QDzmBZdx2RXc",
        "colab_type": "text"
      },
      "source": [
        "### Task 2: Bare Minimum EDA"
      ]
    },
    {
      "cell_type": "code",
      "metadata": {
        "id": "yTlnY0fpE-mr",
        "colab_type": "code",
        "colab": {
          "base_uri": "https://localhost:8080/",
          "height": 206
        },
        "outputId": "c77880da-3e88-4d3b-ac50-ccbfe5bfd219"
      },
      "source": [
        "df.head()"
      ],
      "execution_count": 2,
      "outputs": [
        {
          "output_type": "execute_result",
          "data": {
            "text/html": [
              "<div>\n",
              "<style scoped>\n",
              "    .dataframe tbody tr th:only-of-type {\n",
              "        vertical-align: middle;\n",
              "    }\n",
              "\n",
              "    .dataframe tbody tr th {\n",
              "        vertical-align: top;\n",
              "    }\n",
              "\n",
              "    .dataframe thead th {\n",
              "        text-align: right;\n",
              "    }\n",
              "</style>\n",
              "<table border=\"1\" class=\"dataframe\">\n",
              "  <thead>\n",
              "    <tr style=\"text-align: right;\">\n",
              "      <th></th>\n",
              "      <th>Text_ID</th>\n",
              "      <th>Product_Description</th>\n",
              "      <th>Product_Type</th>\n",
              "      <th>Sentiment</th>\n",
              "    </tr>\n",
              "  </thead>\n",
              "  <tbody>\n",
              "    <tr>\n",
              "      <th>0</th>\n",
              "      <td>3057</td>\n",
              "      <td>The Web DesignerÛªs Guide to iOS (and Android...</td>\n",
              "      <td>9</td>\n",
              "      <td>2</td>\n",
              "    </tr>\n",
              "    <tr>\n",
              "      <th>1</th>\n",
              "      <td>6254</td>\n",
              "      <td>RT @mention Line for iPad 2 is longer today th...</td>\n",
              "      <td>9</td>\n",
              "      <td>2</td>\n",
              "    </tr>\n",
              "    <tr>\n",
              "      <th>2</th>\n",
              "      <td>8212</td>\n",
              "      <td>Crazy that Apple is opening a temporary store ...</td>\n",
              "      <td>9</td>\n",
              "      <td>2</td>\n",
              "    </tr>\n",
              "    <tr>\n",
              "      <th>3</th>\n",
              "      <td>4422</td>\n",
              "      <td>The lesson from Google One Pass: In this digit...</td>\n",
              "      <td>9</td>\n",
              "      <td>2</td>\n",
              "    </tr>\n",
              "    <tr>\n",
              "      <th>4</th>\n",
              "      <td>5526</td>\n",
              "      <td>RT @mention At the panel: &amp;quot;Your mom has a...</td>\n",
              "      <td>9</td>\n",
              "      <td>2</td>\n",
              "    </tr>\n",
              "  </tbody>\n",
              "</table>\n",
              "</div>"
            ],
            "text/plain": [
              "   Text_ID  ... Sentiment\n",
              "0     3057  ...         2\n",
              "1     6254  ...         2\n",
              "2     8212  ...         2\n",
              "3     4422  ...         2\n",
              "4     5526  ...         2\n",
              "\n",
              "[5 rows x 4 columns]"
            ]
          },
          "metadata": {
            "tags": []
          },
          "execution_count": 2
        }
      ]
    },
    {
      "cell_type": "code",
      "metadata": {
        "id": "VUvWT2pqE-p4",
        "colab_type": "code",
        "colab": {
          "base_uri": "https://localhost:8080/",
          "height": 110
        },
        "outputId": "496a15d4-6889-4f8d-a1fe-c639eee48713"
      },
      "source": [
        "df.Sentiment.value_counts()"
      ],
      "execution_count": 3,
      "outputs": [
        {
          "output_type": "execute_result",
          "data": {
            "text/plain": [
              "2    3765\n",
              "3    2089\n",
              "1     399\n",
              "0     111\n",
              "Name: Sentiment, dtype: int64"
            ]
          },
          "metadata": {
            "tags": []
          },
          "execution_count": 3
        }
      ]
    },
    {
      "cell_type": "code",
      "metadata": {
        "id": "aQoLqQ2YxDgN",
        "colab_type": "code",
        "colab": {
          "base_uri": "https://localhost:8080/",
          "height": 36
        },
        "outputId": "28074f49-6956-457f-cd4f-51b84c407e9c"
      },
      "source": [
        "df.Product_Type.nunique()"
      ],
      "execution_count": 4,
      "outputs": [
        {
          "output_type": "execute_result",
          "data": {
            "text/plain": [
              "10"
            ]
          },
          "metadata": {
            "tags": []
          },
          "execution_count": 4
        }
      ]
    },
    {
      "cell_type": "markdown",
      "metadata": {
        "id": "ow5qmXzh2gRq",
        "colab_type": "text"
      },
      "source": [
        "### Task 3: Define Feature and Target Matrices"
      ]
    },
    {
      "cell_type": "code",
      "metadata": {
        "id": "yP8pXbRCE-tL",
        "colab_type": "code",
        "colab": {}
      },
      "source": [
        "ONE_HOT_FEATURES = {\n",
        "    \"Product_Type\": 10\n",
        "}\n",
        "\n",
        "TEXT_FEATURES = {\n",
        "    \"Product_Description\": None\n",
        "}"
      ],
      "execution_count": 5,
      "outputs": []
    },
    {
      "cell_type": "code",
      "metadata": {
        "id": "l0FyYV7Ontza",
        "colab_type": "code",
        "colab": {}
      },
      "source": [
        "def make_one_hot(df):\n",
        "    one_hot_array = []\n",
        "    for feature_name in ONE_HOT_FEATURES.keys():\n",
        "        temp_array = np.asarray(tf.keras.utils.to_categorical(df[feature_name].values))\n",
        "        ONE_HOT_FEATURES[feature_name] = temp_array.shape[1]\n",
        "        one_hot_array.append(temp_array)\n",
        "\n",
        "    return one_hot_array"
      ],
      "execution_count": 6,
      "outputs": []
    },
    {
      "cell_type": "code",
      "metadata": {
        "id": "46eYsalin1Eq",
        "colab_type": "code",
        "colab": {}
      },
      "source": [
        "for feature in ONE_HOT_FEATURES.keys():\n",
        "    df[feature] = df[feature].astype(\"category\").cat.codes\n",
        "\n",
        "one_hot_x = make_one_hot(df)\n",
        "\n",
        "embedding_x = [np.asarray(df[feature_name].values).reshape(-1) for feature_name in TEXT_FEATURES.keys()]"
      ],
      "execution_count": 7,
      "outputs": []
    },
    {
      "cell_type": "code",
      "metadata": {
        "id": "EPOaIRF4E-zJ",
        "colab_type": "code",
        "colab": {}
      },
      "source": [
        "X = one_hot_x + embedding_x\n",
        "y = np.asarray(df[\"Sentiment\"], dtype=np.uint8).reshape(-1)"
      ],
      "execution_count": 8,
      "outputs": []
    },
    {
      "cell_type": "markdown",
      "metadata": {
        "id": "ROaE9i352rO7",
        "colab_type": "text"
      },
      "source": [
        "### Task 4: Define Basic Hyperparamters"
      ]
    },
    {
      "cell_type": "code",
      "metadata": {
        "id": "TavGuzvHzJlk",
        "colab_type": "code",
        "colab": {}
      },
      "source": [
        "LR = 0.0001\n",
        "BATCH_SIZE = 32\n",
        "EPOCHS = 100"
      ],
      "execution_count": 9,
      "outputs": []
    },
    {
      "cell_type": "markdown",
      "metadata": {
        "id": "ddSHOX512yy6",
        "colab_type": "text"
      },
      "source": [
        "### Task 5: Build a Wide and Deep Model (sort of)"
      ]
    },
    {
      "cell_type": "markdown",
      "metadata": {
        "id": "tfV7XHnV28AI",
        "colab_type": "text"
      },
      "source": [
        "Architecture inspired by [Wide & Deep Learning: Better Together with TensorFlow](https://ai.googleblog.com/2016/06/wide-deep-learning-better-together-with.html)"
      ]
    },
    {
      "cell_type": "code",
      "metadata": {
        "id": "gTR9TRtVE_As",
        "colab_type": "code",
        "colab": {}
      },
      "source": [
        "def transformed_name(key):\n",
        "    return key + '_xf'\n",
        "\n",
        "def get_model(show_summary=True):\n",
        "    \"\"\"\n",
        "    This function defines a Keras wide and deep model and returns the model as a Keras object.\n",
        "    \"\"\"\n",
        "    \n",
        "    # adding text input features\n",
        "    input_texts = []\n",
        "    for key in TEXT_FEATURES.keys():\n",
        "        input_texts.append(tf.keras.Input(shape=(1,), name=transformed_name(key), dtype=tf.string))\n",
        "    \n",
        "    # adding one-hot encoded features\n",
        "    input_features = []\n",
        "    for key, dim in ONE_HOT_FEATURES.items():\n",
        "        input_features.append(tf.keras.Input(shape=(dim), name=transformed_name(key)))\n",
        "\n",
        "\n",
        "    # embed text features\n",
        "    MODULE_URL = \"https://tfhub.dev/google/universal-sentence-encoder/4\" # almost a gigabyte of weights, yikes!\n",
        "    embed = hub.KerasLayer(MODULE_URL)\n",
        "    reshaped_narrative = tf.reshape(input_texts[0], [-1]) # reshape to match hub layer input, i.e., 1 entry per row\n",
        "    embed_narrative = embed(reshaped_narrative) # outputs 512 dimensional embeddings\n",
        "    deep_ff = tf.keras.layers.Reshape((512, ), input_shape=(1, 512))(embed_narrative)\n",
        "    \n",
        "    deep = tf.keras.layers.Dense(256, activation='relu')(deep_ff) # deep layers for text features\n",
        "    deep = tf.keras.layers.Dropout(0.2)(deep)\n",
        "    deep = tf.keras.layers.Dense(128, activation='relu')(deep)\n",
        "    deep = tf.keras.layers.Dropout(0.1)(deep)\n",
        "    deep = tf.keras.layers.Dense(64, activation='relu')(deep)\n",
        "    #deep = tf.keras.layers.Dense(16, activation='relu')(deep)\n",
        "\n",
        "    wide_ff = input_features[0] # tf.keras.layers.concatenate(input_features) <- use when multiple one-hot features\n",
        "    wide = tf.keras.layers.Dense(64, activation='relu')(wide_ff) # wide layers for one-hot encoded categoricals\n",
        "    #wide = tf.keras.layers.Dense(16, activation='relu')(wide)\n",
        "\n",
        "    both = tf.keras.layers.concatenate([deep, wide])\n",
        "\n",
        "    output = tf.keras.layers.Dense(4, activation='softmax')(both)\n",
        "\n",
        "    inputs = input_features + input_texts\n",
        "\n",
        "    keras_model = tf.keras.models.Model(inputs, output)\n",
        "    keras_model.compile(optimizer=tf.keras.optimizers.Adam(learning_rate=LR),\n",
        "                        loss='sparse_categorical_crossentropy',  \n",
        "                        metrics=['accuracy'])\n",
        "    if show_summary:\n",
        "        keras_model.summary()\n",
        "\n",
        "    return keras_model"
      ],
      "execution_count": 10,
      "outputs": []
    },
    {
      "cell_type": "code",
      "metadata": {
        "id": "_DtvoszBE_Db",
        "colab_type": "code",
        "colab": {
          "base_uri": "https://localhost:8080/",
          "height": 671
        },
        "outputId": "e75d2ca2-8064-4d55-f222-ca95f08fb52d"
      },
      "source": [
        "model = get_model(show_summary=True)"
      ],
      "execution_count": 11,
      "outputs": [
        {
          "output_type": "stream",
          "text": [
            "Model: \"functional_1\"\n",
            "__________________________________________________________________________________________________\n",
            "Layer (type)                    Output Shape         Param #     Connected to                     \n",
            "==================================================================================================\n",
            "Product_Description_xf (InputLa [(None, 1)]          0                                            \n",
            "__________________________________________________________________________________________________\n",
            "tf_op_layer_Reshape (TensorFlow [(None,)]            0           Product_Description_xf[0][0]     \n",
            "__________________________________________________________________________________________________\n",
            "keras_layer (KerasLayer)        (None, 512)          256797824   tf_op_layer_Reshape[0][0]        \n",
            "__________________________________________________________________________________________________\n",
            "reshape (Reshape)               (None, 512)          0           keras_layer[0][0]                \n",
            "__________________________________________________________________________________________________\n",
            "dense (Dense)                   (None, 256)          131328      reshape[0][0]                    \n",
            "__________________________________________________________________________________________________\n",
            "dropout (Dropout)               (None, 256)          0           dense[0][0]                      \n",
            "__________________________________________________________________________________________________\n",
            "dense_1 (Dense)                 (None, 128)          32896       dropout[0][0]                    \n",
            "__________________________________________________________________________________________________\n",
            "dropout_1 (Dropout)             (None, 128)          0           dense_1[0][0]                    \n",
            "__________________________________________________________________________________________________\n",
            "Product_Type_xf (InputLayer)    [(None, 10)]         0                                            \n",
            "__________________________________________________________________________________________________\n",
            "dense_2 (Dense)                 (None, 64)           8256        dropout_1[0][0]                  \n",
            "__________________________________________________________________________________________________\n",
            "dense_3 (Dense)                 (None, 64)           704         Product_Type_xf[0][0]            \n",
            "__________________________________________________________________________________________________\n",
            "concatenate (Concatenate)       (None, 128)          0           dense_2[0][0]                    \n",
            "                                                                 dense_3[0][0]                    \n",
            "__________________________________________________________________________________________________\n",
            "dense_4 (Dense)                 (None, 4)            516         concatenate[0][0]                \n",
            "==================================================================================================\n",
            "Total params: 256,971,524\n",
            "Trainable params: 173,700\n",
            "Non-trainable params: 256,797,824\n",
            "__________________________________________________________________________________________________\n"
          ],
          "name": "stdout"
        }
      ]
    },
    {
      "cell_type": "code",
      "metadata": {
        "id": "NiLpx3SGozQx",
        "colab_type": "code",
        "colab": {
          "base_uri": "https://localhost:8080/",
          "height": 835
        },
        "outputId": "52cb9766-82f7-4135-9375-af24e4453fea"
      },
      "source": [
        "tf.keras.utils.plot_model(model, rankdir='TB', to_file='model.png', dpi=76)"
      ],
      "execution_count": 12,
      "outputs": [
        {
          "output_type": "execute_result",
          "data": {
            "image/png": "[encoded data removed]",
            "text/plain": [
              "<IPython.core.display.Image object>"
            ]
          },
          "metadata": {
            "tags": []
          },
          "execution_count": 12
        }
      ]
    },
    {
      "cell_type": "markdown",
      "metadata": {
        "id": "filb-G7O3eBC",
        "colab_type": "text"
      },
      "source": [
        "### Task 6: Train Model"
      ]
    },
    {
      "cell_type": "code",
      "metadata": {
        "id": "TsWQfnUhICwE",
        "colab_type": "code",
        "colab": {
          "base_uri": "https://localhost:8080/",
          "height": 727
        },
        "outputId": "4df871e2-cf3a-4df0-9a40-cc455ad1c48c"
      },
      "source": [
        "es = tf.keras.callbacks.EarlyStopping(monitor='val_loss', patience=2)\n",
        "#lr_scheduler = tf.keras.callbacks.LearningRateScheduler(scheduler)\n",
        "#checkpoint = tf.keras.callbacks.ModelCheckpoint(filepath='checkpoints', monitor='val_loss', save_best_only=True, save_weights_only=True)\n",
        "\n",
        "history = model.fit(x=X, y=y, batch_size=BATCH_SIZE, validation_split=0.1,\n",
        "                    epochs=EPOCHS, callbacks=[es], verbose=1)"
      ],
      "execution_count": 14,
      "outputs": [
        {
          "output_type": "stream",
          "text": [
            "Epoch 1/100\n",
            "179/179 [==============================] - 2s 12ms/step - loss: 1.0502 - accuracy: 0.5774 - val_loss: 0.8984 - val_accuracy: 0.5620\n",
            "Epoch 2/100\n",
            "179/179 [==============================] - 2s 10ms/step - loss: 0.8015 - accuracy: 0.6642 - val_loss: 0.8192 - val_accuracy: 0.6766\n",
            "Epoch 3/100\n",
            "179/179 [==============================] - 2s 10ms/step - loss: 0.7234 - accuracy: 0.7636 - val_loss: 0.7481 - val_accuracy: 0.7614\n",
            "Epoch 4/100\n",
            "179/179 [==============================] - 2s 10ms/step - loss: 0.6519 - accuracy: 0.8100 - val_loss: 0.6787 - val_accuracy: 0.7928\n",
            "Epoch 5/100\n",
            "179/179 [==============================] - 2s 10ms/step - loss: 0.5869 - accuracy: 0.8380 - val_loss: 0.6230 - val_accuracy: 0.8022\n",
            "Epoch 6/100\n",
            "179/179 [==============================] - 2s 10ms/step - loss: 0.5333 - accuracy: 0.8554 - val_loss: 0.5695 - val_accuracy: 0.8446\n",
            "Epoch 7/100\n",
            "179/179 [==============================] - 2s 10ms/step - loss: 0.4863 - accuracy: 0.8729 - val_loss: 0.5352 - val_accuracy: 0.8430\n",
            "Epoch 8/100\n",
            "179/179 [==============================] - 2s 10ms/step - loss: 0.4501 - accuracy: 0.8823 - val_loss: 0.5035 - val_accuracy: 0.8540\n",
            "Epoch 9/100\n",
            "179/179 [==============================] - 2s 10ms/step - loss: 0.4188 - accuracy: 0.8879 - val_loss: 0.4852 - val_accuracy: 0.8571\n",
            "Epoch 10/100\n",
            "179/179 [==============================] - 2s 10ms/step - loss: 0.3976 - accuracy: 0.8896 - val_loss: 0.4678 - val_accuracy: 0.8587\n",
            "Epoch 11/100\n",
            "179/179 [==============================] - 2s 10ms/step - loss: 0.3783 - accuracy: 0.8938 - val_loss: 0.4633 - val_accuracy: 0.8524\n",
            "Epoch 12/100\n",
            "179/179 [==============================] - 2s 10ms/step - loss: 0.3672 - accuracy: 0.8959 - val_loss: 0.4500 - val_accuracy: 0.8603\n",
            "Epoch 13/100\n",
            "179/179 [==============================] - 2s 10ms/step - loss: 0.3561 - accuracy: 0.8980 - val_loss: 0.4453 - val_accuracy: 0.8619\n",
            "Epoch 14/100\n",
            "179/179 [==============================] - 2s 10ms/step - loss: 0.3455 - accuracy: 0.8992 - val_loss: 0.4436 - val_accuracy: 0.8603\n",
            "Epoch 15/100\n",
            "179/179 [==============================] - 2s 10ms/step - loss: 0.3381 - accuracy: 0.9026 - val_loss: 0.4404 - val_accuracy: 0.8634\n",
            "Epoch 16/100\n",
            "179/179 [==============================] - 2s 10ms/step - loss: 0.3299 - accuracy: 0.9036 - val_loss: 0.4440 - val_accuracy: 0.8603\n",
            "Epoch 17/100\n",
            "179/179 [==============================] - 2s 10ms/step - loss: 0.3240 - accuracy: 0.9041 - val_loss: 0.4382 - val_accuracy: 0.8634\n",
            "Epoch 18/100\n",
            "179/179 [==============================] - 2s 10ms/step - loss: 0.3172 - accuracy: 0.9054 - val_loss: 0.4393 - val_accuracy: 0.8619\n",
            "Epoch 19/100\n",
            "179/179 [==============================] - 2s 10ms/step - loss: 0.3090 - accuracy: 0.9061 - val_loss: 0.4417 - val_accuracy: 0.8634\n"
          ],
          "name": "stdout"
        }
      ]
    },
    {
      "cell_type": "markdown",
      "metadata": {
        "id": "TroDEir73rAx",
        "colab_type": "text"
      },
      "source": [
        "### Task 7: Retrain Model"
      ]
    },
    {
      "cell_type": "code",
      "metadata": {
        "id": "2I8FOL6-D1NR",
        "colab_type": "code",
        "colab": {}
      },
      "source": [
        "#model.load_weights('/content/checkpoints.index')"
      ],
      "execution_count": null,
      "outputs": []
    },
    {
      "cell_type": "code",
      "metadata": {
        "id": "M4FZg3vUFQaT",
        "colab_type": "code",
        "colab": {}
      },
      "source": [
        "del model\n",
        "model = get_model(show_summary=False)"
      ],
      "execution_count": 18,
      "outputs": []
    },
    {
      "cell_type": "code",
      "metadata": {
        "id": "8uuMhAtLExOP",
        "colab_type": "code",
        "colab": {
          "base_uri": "https://localhost:8080/",
          "height": 335
        },
        "outputId": "38b5c760-a58f-4a8c-89bf-888f5d20b89e"
      },
      "source": [
        "model.fit(x=X, y=y, epochs=8, verbose=1, batch_size=BATCH_SIZE) # retrain on the complete dataset for num_epochs with the lowest val_loss"
      ],
      "execution_count": 19,
      "outputs": [
        {
          "output_type": "stream",
          "text": [
            "Epoch 1/8\n",
            "199/199 [==============================] - 2s 9ms/step - loss: 1.0560 - accuracy: 0.5475\n",
            "Epoch 2/8\n",
            "199/199 [==============================] - 2s 9ms/step - loss: 0.8031 - accuracy: 0.6796\n",
            "Epoch 3/8\n",
            "199/199 [==============================] - 2s 9ms/step - loss: 0.7209 - accuracy: 0.7599\n",
            "Epoch 4/8\n",
            "199/199 [==============================] - 2s 9ms/step - loss: 0.6418 - accuracy: 0.8075\n",
            "Epoch 5/8\n",
            "199/199 [==============================] - 2s 9ms/step - loss: 0.5749 - accuracy: 0.8347\n",
            "Epoch 6/8\n",
            "199/199 [==============================] - 2s 9ms/step - loss: 0.5180 - accuracy: 0.8553\n",
            "Epoch 7/8\n",
            "199/199 [==============================] - 2s 9ms/step - loss: 0.4710 - accuracy: 0.8727\n",
            "Epoch 8/8\n",
            "199/199 [==============================] - 2s 9ms/step - loss: 0.4350 - accuracy: 0.8837\n"
          ],
          "name": "stdout"
        },
        {
          "output_type": "execute_result",
          "data": {
            "text/plain": [
              "<tensorflow.python.keras.callbacks.History at 0x7fad0fcc2d68>"
            ]
          },
          "metadata": {
            "tags": []
          },
          "execution_count": 19
        }
      ]
    },
    {
      "cell_type": "markdown",
      "metadata": {
        "id": "GNRsrj-j3lCe",
        "colab_type": "text"
      },
      "source": [
        "### Task 8: Test Data Pipeline"
      ]
    },
    {
      "cell_type": "code",
      "metadata": {
        "id": "jmxICLI00KYo",
        "colab_type": "code",
        "colab": {}
      },
      "source": [
        "test_df = pd.read_csv('/content/Participants_Data/Test.csv', low_memory=False)\n",
        "\n",
        "ONE_HOT_FEATURES = {\n",
        "    \"Product_Type\": 10\n",
        "}\n",
        "TEXT_FEATURES = {\n",
        "    \"Product_Description\": None\n",
        "}\n",
        "\n",
        "for feature in ONE_HOT_FEATURES.keys():\n",
        "    test_df[feature] = test_df[feature].astype(\"category\").cat.codes\n",
        "\n",
        "one_hot_x = make_one_hot(test_df)\n",
        "\n",
        "embedding_x = [np.asarray(test_df[feature_name].values).reshape(-1) for feature_name in TEXT_FEATURES.keys()]\n",
        "X = one_hot_x + embedding_x"
      ],
      "execution_count": 20,
      "outputs": []
    },
    {
      "cell_type": "markdown",
      "metadata": {
        "id": "a6BXwt71Ea8v",
        "colab_type": "text"
      },
      "source": [
        "### Task 9: Model Inference on Test Data"
      ]
    },
    {
      "cell_type": "code",
      "metadata": {
        "id": "hLlebp-HtvRo",
        "colab_type": "code",
        "colab": {}
      },
      "source": [
        "preds = model.predict(X)"
      ],
      "execution_count": 21,
      "outputs": []
    },
    {
      "cell_type": "code",
      "metadata": {
        "id": "QAEyV1-atvYB",
        "colab_type": "code",
        "colab": {
          "base_uri": "https://localhost:8080/",
          "height": 166
        },
        "outputId": "d8e43a36-2de1-4005-994a-02d541bfab40"
      },
      "source": [
        "preds"
      ],
      "execution_count": 22,
      "outputs": [
        {
          "output_type": "execute_result",
          "data": {
            "text/plain": [
              "array([[8.5031018e-03, 4.5976542e-02, 1.9261777e-01, 7.5290257e-01],\n",
              "       [6.2352128e-02, 1.6220716e-01, 6.6587383e-01, 1.0956693e-01],\n",
              "       [6.8597190e-02, 1.5369940e-01, 6.1153215e-01, 1.6617124e-01],\n",
              "       ...,\n",
              "       [2.7805425e-03, 9.2547499e-03, 6.1136659e-02, 9.2682809e-01],\n",
              "       [1.4902602e-03, 8.8806869e-04, 9.3969548e-01, 5.7926159e-02],\n",
              "       [4.7780290e-02, 2.9234186e-01, 1.2856685e-01, 5.3131098e-01]],\n",
              "      dtype=float32)"
            ]
          },
          "metadata": {
            "tags": []
          },
          "execution_count": 22
        }
      ]
    },
    {
      "cell_type": "code",
      "metadata": {
        "id": "ADX44zVGtveH",
        "colab_type": "code",
        "colab": {}
      },
      "source": [
        "pd.DataFrame(preds, columns=['0', '1', '2', '3']).to_csv('sub.csv', index=False)"
      ],
      "execution_count": 23,
      "outputs": []
    },
    {
      "cell_type": "code",
      "metadata": {
        "id": "6yxRxYt9EYt8",
        "colab_type": "code",
        "colab": {}
      },
      "source": [
        ""
      ],
      "execution_count": null,
      "outputs": []
    }
  ]
}